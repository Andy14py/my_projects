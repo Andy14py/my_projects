{
  "cells": [
    {
      "cell_type": "markdown",
      "metadata": {
        "id": "view-in-github",
        "colab_type": "text"
      },
      "source": [
        "<a href=\"https://colab.research.google.com/github/Andy14py/my_projects/blob/main/DSProject_ModeloPredictivo_Mundial_Qatar.ipynb\" target=\"_parent\"><img src=\"https://colab.research.google.com/assets/colab-badge.svg\" alt=\"Open In Colab\"/></a>"
      ]
    },
    {
      "cell_type": "markdown",
      "source": [
        "# <center> **PREDECIR CAMPEON DEL MUNDIAL QATAR** <center>"
      ],
      "metadata": {
        "id": "AVhrEFc_FqMl"
      },
      "id": "AVhrEFc_FqMl"
    },
    {
      "cell_type": "markdown",
      "source": [
        "# FASE 3: Modelo predictivo\n",
        "luego de la Fase 1(Extraccion_Data) y Fase2(Limpieza_Transformacion) estamos listos para modelar el codigo para predecir al campeon del mundial, este sera por medio de una distribucion de poisson pues se ajusta a los parametros de nuestros datos."
      ],
      "metadata": {
        "id": "0NKNIIs4Fye0"
      },
      "id": "0NKNIIs4Fye0"
    },
    {
      "cell_type": "code",
      "execution_count": null,
      "id": "86ead0b8",
      "metadata": {
        "id": "86ead0b8"
      },
      "outputs": [],
      "source": [
        "import pandas as pd\n",
        "import pickle\n",
        "import requests\n",
        "from scipy.stats import poisson\n",
        "# Este metodo descarga el archivo desde GitHub y carga el objeto dict_table\n",
        "url = 'https://github.com/Andy14py/my_projects/raw/a986c7eb1ab77cb27e1cbbe6ecabcc3f6373858f/data_base_final/dict_table'\n",
        "dict_table = pickle.loads(requests.get(url).content)\n",
        "# este metodo pickle solo sirve si el archivo esta en tu pc\n",
        "dict_table2=pickle.load(open('dict_table','rb'))\n",
        "df_data_historica=pd.read_csv('https://raw.githubusercontent.com/Andy14py/my_projects/main/data_base_final/clean_data_historica_fifa_worldcup.csv')\n",
        "df_fixture=pd.read_csv('https://raw.githubusercontent.com/Andy14py/my_projects/main/data_base_final/clean_fifa_worldcup_fixture.csv')"
      ]
    },
    {
      "cell_type": "markdown",
      "id": "705db2a1",
      "metadata": {
        "id": "705db2a1"
      },
      "source": [
        "## Calcular la fortaleza de un equipo\n",
        "Este parametro se vera influenciado por la cantidad de goles marcados y la cantidad de goles concedidos al rival o recibidos\n"
      ]
    },
    {
      "cell_type": "code",
      "execution_count": null,
      "id": "5abe0047",
      "metadata": {
        "id": "5abe0047",
        "outputId": "9f5c5a90-8c27-4e39-8f09-23f01172809a"
      },
      "outputs": [
        {
          "data": {
            "text/html": [
              "<div>\n",
              "<style scoped>\n",
              "    .dataframe tbody tr th:only-of-type {\n",
              "        vertical-align: middle;\n",
              "    }\n",
              "\n",
              "    .dataframe tbody tr th {\n",
              "        vertical-align: top;\n",
              "    }\n",
              "\n",
              "    .dataframe thead th {\n",
              "        text-align: right;\n",
              "    }\n",
              "</style>\n",
              "<table border=\"1\" class=\"dataframe\">\n",
              "  <thead>\n",
              "    <tr style=\"text-align: right;\">\n",
              "      <th></th>\n",
              "      <th>GoalsScored</th>\n",
              "      <th>GoalsConceded</th>\n",
              "    </tr>\n",
              "    <tr>\n",
              "      <th>Team</th>\n",
              "      <th></th>\n",
              "      <th></th>\n",
              "    </tr>\n",
              "  </thead>\n",
              "  <tbody>\n",
              "    <tr>\n",
              "      <th>Algeria</th>\n",
              "      <td>1.000000</td>\n",
              "      <td>1.461538</td>\n",
              "    </tr>\n",
              "    <tr>\n",
              "      <th>Angola</th>\n",
              "      <td>0.333333</td>\n",
              "      <td>0.666667</td>\n",
              "    </tr>\n",
              "    <tr>\n",
              "      <th>Argentina</th>\n",
              "      <td>1.691358</td>\n",
              "      <td>1.148148</td>\n",
              "    </tr>\n",
              "    <tr>\n",
              "      <th>Australia</th>\n",
              "      <td>0.812500</td>\n",
              "      <td>1.937500</td>\n",
              "    </tr>\n",
              "    <tr>\n",
              "      <th>Austria</th>\n",
              "      <td>1.482759</td>\n",
              "      <td>1.620690</td>\n",
              "    </tr>\n",
              "    <tr>\n",
              "      <th>...</th>\n",
              "      <td>...</td>\n",
              "      <td>...</td>\n",
              "    </tr>\n",
              "    <tr>\n",
              "      <th>Uruguay</th>\n",
              "      <td>1.553571</td>\n",
              "      <td>1.321429</td>\n",
              "    </tr>\n",
              "    <tr>\n",
              "      <th>Wales</th>\n",
              "      <td>0.800000</td>\n",
              "      <td>0.800000</td>\n",
              "    </tr>\n",
              "    <tr>\n",
              "      <th>West Germany</th>\n",
              "      <td>2.098361</td>\n",
              "      <td>1.213115</td>\n",
              "    </tr>\n",
              "    <tr>\n",
              "      <th>Yugoslavia</th>\n",
              "      <td>1.666667</td>\n",
              "      <td>1.272727</td>\n",
              "    </tr>\n",
              "    <tr>\n",
              "      <th>Zaire</th>\n",
              "      <td>0.000000</td>\n",
              "      <td>4.666667</td>\n",
              "    </tr>\n",
              "  </tbody>\n",
              "</table>\n",
              "<p>85 rows × 2 columns</p>\n",
              "</div>"
            ],
            "text/plain": [
              "              GoalsScored  GoalsConceded\n",
              "Team                                    \n",
              "Algeria          1.000000       1.461538\n",
              "Angola           0.333333       0.666667\n",
              "Argentina        1.691358       1.148148\n",
              "Australia        0.812500       1.937500\n",
              "Austria          1.482759       1.620690\n",
              "...                   ...            ...\n",
              "Uruguay          1.553571       1.321429\n",
              "Wales            0.800000       0.800000\n",
              "West Germany     2.098361       1.213115\n",
              "Yugoslavia       1.666667       1.272727\n",
              "Zaire            0.000000       4.666667\n",
              "\n",
              "[85 rows x 2 columns]"
            ]
          },
          "execution_count": 64,
          "metadata": {},
          "output_type": "execute_result"
        }
      ],
      "source": [
        "# dividimos el df historico en df_home y df_away\n",
        "df_home=df_data_historica[['HomeTeam', 'HomeGoals', 'AwayGoals']]\n",
        "df_away=df_data_historica[['AwayTeam', 'HomeGoals', 'AwayGoals']]\n",
        "#Cambiamos nombres a las columnas renombramos con rename\n",
        "#Si nos damos cuenta y lo vemos solo desde la perspectiva del equipo local(HomeTeam) para \n",
        "#el equipo local los GoalsScore son los goles que anota al equipo visitante(AwayTeam) y para\n",
        "#el equipo visitante(AwayTeam) estos goles son los GoalsConceded por ello el nombre en el df_away cambia\n",
        "df_home=df_home.rename(columns={'HomeTeam':'Team','HomeGoals':'GoalsScored', 'AwayGoals':'GoalsConceded'})\n",
        "df_away=df_away.rename(columns={'AwayTeam':'Team','HomeGoals':'GoalsConceded', 'AwayGoals':'GoalsScored'})\n",
        "#Concatenamos los dos(df_home y df_away) \n",
        "df_team_strength=pd.concat([df_home,df_away],ignore_index=True).groupby('Team').mean()\n",
        "df_team_strength"
      ]
    },
    {
      "cell_type": "markdown",
      "id": "bee1412d",
      "metadata": {
        "id": "bee1412d"
      },
      "source": [
        "## Funcion de prediccion"
      ]
    },
    {
      "cell_type": "code",
      "execution_count": null,
      "id": "2bb167fb",
      "metadata": {
        "id": "2bb167fb"
      },
      "outputs": [],
      "source": [
        "# el lamb_home es el Landa(λ) el promedio de goles en 90 minutos o por partido \n",
        "# realizado por el equipo local y visitante, estamos usando una distribucion tipo Poison\n",
        "# x es el numero de goles que podria marcar el equipo A o B\n",
        "# si un partido acaba 2-3 el X del equipo A seria 2 y del equipo B seria 3\n",
        "def predict_points(home, away):\n",
        "    if home in df_team_strength.index and away in df_team_strength.index:\n",
        "        # goals_scored * goals_conceded\n",
        "        lamb_home = df_team_strength.at[home,'GoalsScored'] * df_team_strength.at[away,'GoalsConceded']\n",
        "        lamb_away = df_team_strength.at[away,'GoalsScored'] * df_team_strength.at[home,'GoalsConceded']\n",
        "        prob_home, prob_away, prob_draw = 0, 0, 0\n",
        "# Este bucle nos da los posibles resultados desde 0-1,0-2,0-3 todas las 121 combinaciones\n",
        "        for x in range(0,11): #number of goals home team\n",
        "            for y in range(0, 11): #number of goals away team\n",
        "                p = poisson.pmf(x, lamb_home) * poisson.pmf(y, lamb_away)\n",
        "                if x == y:\n",
        "                    prob_draw += p\n",
        "                elif x > y:\n",
        "                    prob_home += p\n",
        "                else:\n",
        "                    prob_away += p\n",
        "# Aqui si la prob_home fuera =100% la prob_draw seria 0 y el equipo home obtendria 3 puntos\n",
        "# caso contrario el equipo home solo obtendria 1 punto\n",
        "        points_home = 3 * prob_home + prob_draw\n",
        "        points_away = 3 * prob_away + prob_draw\n",
        "        return (points_home, points_away)\n",
        "    else:\n",
        "        return (0, 0)"
      ]
    },
    {
      "cell_type": "markdown",
      "source": [
        "## Test de funcionamiento"
      ],
      "metadata": {
        "id": "80-Kq-WpGTw8"
      },
      "id": "80-Kq-WpGTw8"
    },
    {
      "cell_type": "code",
      "execution_count": null,
      "id": "b17aa397",
      "metadata": {
        "id": "b17aa397",
        "outputId": "a68fa58f-f412-46d7-aef2-b99c8c33ee05"
      },
      "outputs": [
        {
          "data": {
            "text/plain": [
              "(2.3129151525530505, 0.5378377125059863)"
            ]
          },
          "execution_count": 66,
          "metadata": {},
          "output_type": "execute_result"
        }
      ],
      "source": [
        "predict_points('Argentina', 'Mexico')"
      ]
    },
    {
      "cell_type": "code",
      "execution_count": null,
      "id": "92f326a9",
      "metadata": {
        "id": "92f326a9",
        "outputId": "59b78bae-f7a2-4a35-c441-687aa9aed827"
      },
      "outputs": [
        {
          "name": "stdout",
          "output_type": "stream",
          "text": [
            "(2.2356147635326007, 0.5922397535606193)\n",
            "(2.3129151525530505, 0.5378377125059863)\n",
            "(0, 0)\n"
          ]
        }
      ],
      "source": [
        "print(predict_points('England', 'United States'))\n",
        "print(predict_points('Argentina', 'Mexico'))\n",
        "print(predict_points('Qatar (H)', 'Ecuador')) # Qatar vs Team X -> 0 points to both"
      ]
    },
    {
      "cell_type": "markdown",
      "source": [
        "## Fase de Grupos"
      ],
      "metadata": {
        "id": "3Hus5TiqGZ4N"
      },
      "id": "3Hus5TiqGZ4N"
    },
    {
      "cell_type": "code",
      "execution_count": null,
      "id": "8df2d2f7",
      "metadata": {
        "id": "8df2d2f7"
      },
      "outputs": [],
      "source": [
        "df_fixture_group_48 = df_fixture[:48].copy()\n",
        "df_fixture_knockout = df_fixture[48:56].copy()\n",
        "df_fixture_quarter = df_fixture[56:60].copy()\n",
        "df_fixture_semi = df_fixture[60:62].copy()\n",
        "df_fixture_final = df_fixture[62:].copy()"
      ]
    },
    {
      "cell_type": "code",
      "execution_count": null,
      "id": "833a0654",
      "metadata": {
        "id": "833a0654"
      },
      "outputs": [],
      "source": [
        "# El siguiente bucle itera los grupos crea un nuevo conjunto para determinar si los paises estan dentro del grupo y luego\n",
        "# determina el ganador y lo agrega a la tabla correspondiente\n",
        "for group in dict_table:\n",
        "    teams_in_group = dict_table[group]['Team'].values\n",
        "    df_fixture_group_6 = df_fixture_group_48[df_fixture_group_48['home'].isin(teams_in_group)]\n",
        "    for index, row in df_fixture_group_6.iterrows():\n",
        "        home, away = row['home'], row['away']\n",
        "        points_home, points_away = predict_points(home, away)\n",
        "        dict_table[group].loc[dict_table[group]['Team'] == home, 'Pts'] += points_home\n",
        "        dict_table[group].loc[dict_table[group]['Team'] == away, 'Pts'] += points_away\n",
        "\n",
        "    dict_table[group] = dict_table[group].sort_values('Pts', ascending=False).reset_index()\n",
        "    dict_table[group] = dict_table[group][['Team', 'Pts']]\n",
        "    dict_table[group] = dict_table[group].round(0)"
      ]
    },
    {
      "cell_type": "code",
      "execution_count": null,
      "id": "d353be3c",
      "metadata": {
        "id": "d353be3c",
        "outputId": "09274afb-b02a-47cc-e032-b52aa34fe902"
      },
      "outputs": [
        {
          "data": {
            "text/html": [
              "<div>\n",
              "<style scoped>\n",
              "    .dataframe tbody tr th:only-of-type {\n",
              "        vertical-align: middle;\n",
              "    }\n",
              "\n",
              "    .dataframe tbody tr th {\n",
              "        vertical-align: top;\n",
              "    }\n",
              "\n",
              "    .dataframe thead th {\n",
              "        text-align: right;\n",
              "    }\n",
              "</style>\n",
              "<table border=\"1\" class=\"dataframe\">\n",
              "  <thead>\n",
              "    <tr style=\"text-align: right;\">\n",
              "      <th></th>\n",
              "      <th>Team</th>\n",
              "      <th>Pts</th>\n",
              "    </tr>\n",
              "  </thead>\n",
              "  <tbody>\n",
              "    <tr>\n",
              "      <th>0</th>\n",
              "      <td>Netherlands</td>\n",
              "      <td>4.0</td>\n",
              "    </tr>\n",
              "    <tr>\n",
              "      <th>1</th>\n",
              "      <td>Senegal</td>\n",
              "      <td>2.0</td>\n",
              "    </tr>\n",
              "    <tr>\n",
              "      <th>2</th>\n",
              "      <td>Ecuador</td>\n",
              "      <td>2.0</td>\n",
              "    </tr>\n",
              "    <tr>\n",
              "      <th>3</th>\n",
              "      <td>Qatar (H)</td>\n",
              "      <td>0.0</td>\n",
              "    </tr>\n",
              "  </tbody>\n",
              "</table>\n",
              "</div>"
            ],
            "text/plain": [
              "          Team  Pts\n",
              "0  Netherlands  4.0\n",
              "1      Senegal  2.0\n",
              "2      Ecuador  2.0\n",
              "3    Qatar (H)  0.0"
            ]
          },
          "execution_count": 82,
          "metadata": {},
          "output_type": "execute_result"
        }
      ],
      "source": [
        "dict_table['Group A']"
      ]
    },
    {
      "cell_type": "markdown",
      "source": [
        "## Octavos de final"
      ],
      "metadata": {
        "id": "31WWdh9AVIfW"
      },
      "id": "31WWdh9AVIfW"
    },
    {
      "cell_type": "code",
      "execution_count": null,
      "id": "698cfb49",
      "metadata": {
        "id": "698cfb49",
        "outputId": "08da4aac-cd6b-40ab-e123-b258efce5332"
      },
      "outputs": [
        {
          "data": {
            "text/html": [
              "<div>\n",
              "<style scoped>\n",
              "    .dataframe tbody tr th:only-of-type {\n",
              "        vertical-align: middle;\n",
              "    }\n",
              "\n",
              "    .dataframe tbody tr th {\n",
              "        vertical-align: top;\n",
              "    }\n",
              "\n",
              "    .dataframe thead th {\n",
              "        text-align: right;\n",
              "    }\n",
              "</style>\n",
              "<table border=\"1\" class=\"dataframe\">\n",
              "  <thead>\n",
              "    <tr style=\"text-align: right;\">\n",
              "      <th></th>\n",
              "      <th>home</th>\n",
              "      <th>score</th>\n",
              "      <th>away</th>\n",
              "      <th>year</th>\n",
              "    </tr>\n",
              "  </thead>\n",
              "  <tbody>\n",
              "    <tr>\n",
              "      <th>48</th>\n",
              "      <td>Winners Group A</td>\n",
              "      <td>Match 49</td>\n",
              "      <td>Runners-up Group B</td>\n",
              "      <td>2022</td>\n",
              "    </tr>\n",
              "    <tr>\n",
              "      <th>49</th>\n",
              "      <td>Winners Group C</td>\n",
              "      <td>Match 50</td>\n",
              "      <td>Runners-up Group D</td>\n",
              "      <td>2022</td>\n",
              "    </tr>\n",
              "    <tr>\n",
              "      <th>50</th>\n",
              "      <td>Winners Group D</td>\n",
              "      <td>Match 52</td>\n",
              "      <td>Runners-up Group C</td>\n",
              "      <td>2022</td>\n",
              "    </tr>\n",
              "    <tr>\n",
              "      <th>51</th>\n",
              "      <td>Winners Group B</td>\n",
              "      <td>Match 51</td>\n",
              "      <td>Runners-up Group A</td>\n",
              "      <td>2022</td>\n",
              "    </tr>\n",
              "    <tr>\n",
              "      <th>52</th>\n",
              "      <td>Winners Group E</td>\n",
              "      <td>Match 53</td>\n",
              "      <td>Runners-up Group F</td>\n",
              "      <td>2022</td>\n",
              "    </tr>\n",
              "    <tr>\n",
              "      <th>53</th>\n",
              "      <td>Winners Group G</td>\n",
              "      <td>Match 54</td>\n",
              "      <td>Runners-up Group H</td>\n",
              "      <td>2022</td>\n",
              "    </tr>\n",
              "    <tr>\n",
              "      <th>54</th>\n",
              "      <td>Winners Group F</td>\n",
              "      <td>Match 55</td>\n",
              "      <td>Runners-up Group E</td>\n",
              "      <td>2022</td>\n",
              "    </tr>\n",
              "    <tr>\n",
              "      <th>55</th>\n",
              "      <td>Winners Group H</td>\n",
              "      <td>Match 56</td>\n",
              "      <td>Runners-up Group G</td>\n",
              "      <td>2022</td>\n",
              "    </tr>\n",
              "  </tbody>\n",
              "</table>\n",
              "</div>"
            ],
            "text/plain": [
              "               home     score                away  year\n",
              "48  Winners Group A  Match 49  Runners-up Group B  2022\n",
              "49  Winners Group C  Match 50  Runners-up Group D  2022\n",
              "50  Winners Group D  Match 52  Runners-up Group C  2022\n",
              "51  Winners Group B  Match 51  Runners-up Group A  2022\n",
              "52  Winners Group E  Match 53  Runners-up Group F  2022\n",
              "53  Winners Group G  Match 54  Runners-up Group H  2022\n",
              "54  Winners Group F  Match 55  Runners-up Group E  2022\n",
              "55  Winners Group H  Match 56  Runners-up Group G  2022"
            ]
          },
          "execution_count": 83,
          "metadata": {},
          "output_type": "execute_result"
        }
      ],
      "source": [
        "\n",
        "df_fixture_knockout"
      ]
    },
    {
      "cell_type": "code",
      "execution_count": null,
      "id": "d291410c",
      "metadata": {
        "id": "d291410c",
        "outputId": "c49a2e22-f8a5-4e91-c38f-651b59b42c84"
      },
      "outputs": [
        {
          "data": {
            "text/html": [
              "<div>\n",
              "<style scoped>\n",
              "    .dataframe tbody tr th:only-of-type {\n",
              "        vertical-align: middle;\n",
              "    }\n",
              "\n",
              "    .dataframe tbody tr th {\n",
              "        vertical-align: top;\n",
              "    }\n",
              "\n",
              "    .dataframe thead th {\n",
              "        text-align: right;\n",
              "    }\n",
              "</style>\n",
              "<table border=\"1\" class=\"dataframe\">\n",
              "  <thead>\n",
              "    <tr style=\"text-align: right;\">\n",
              "      <th></th>\n",
              "      <th>home</th>\n",
              "      <th>score</th>\n",
              "      <th>away</th>\n",
              "      <th>year</th>\n",
              "      <th>winner</th>\n",
              "    </tr>\n",
              "  </thead>\n",
              "  <tbody>\n",
              "    <tr>\n",
              "      <th>48</th>\n",
              "      <td>Netherlands</td>\n",
              "      <td>Match 49</td>\n",
              "      <td>Wales</td>\n",
              "      <td>2022</td>\n",
              "      <td>?</td>\n",
              "    </tr>\n",
              "    <tr>\n",
              "      <th>49</th>\n",
              "      <td>Argentina</td>\n",
              "      <td>Match 50</td>\n",
              "      <td>Denmark</td>\n",
              "      <td>2022</td>\n",
              "      <td>?</td>\n",
              "    </tr>\n",
              "    <tr>\n",
              "      <th>50</th>\n",
              "      <td>France</td>\n",
              "      <td>Match 52</td>\n",
              "      <td>Poland</td>\n",
              "      <td>2022</td>\n",
              "      <td>?</td>\n",
              "    </tr>\n",
              "    <tr>\n",
              "      <th>51</th>\n",
              "      <td>England</td>\n",
              "      <td>Match 51</td>\n",
              "      <td>Senegal</td>\n",
              "      <td>2022</td>\n",
              "      <td>?</td>\n",
              "    </tr>\n",
              "    <tr>\n",
              "      <th>52</th>\n",
              "      <td>Germany</td>\n",
              "      <td>Match 53</td>\n",
              "      <td>Belgium</td>\n",
              "      <td>2022</td>\n",
              "      <td>?</td>\n",
              "    </tr>\n",
              "    <tr>\n",
              "      <th>53</th>\n",
              "      <td>Brazil</td>\n",
              "      <td>Match 54</td>\n",
              "      <td>Uruguay</td>\n",
              "      <td>2022</td>\n",
              "      <td>?</td>\n",
              "    </tr>\n",
              "    <tr>\n",
              "      <th>54</th>\n",
              "      <td>Croatia</td>\n",
              "      <td>Match 55</td>\n",
              "      <td>Spain</td>\n",
              "      <td>2022</td>\n",
              "      <td>?</td>\n",
              "    </tr>\n",
              "    <tr>\n",
              "      <th>55</th>\n",
              "      <td>Portugal</td>\n",
              "      <td>Match 56</td>\n",
              "      <td>Switzerland</td>\n",
              "      <td>2022</td>\n",
              "      <td>?</td>\n",
              "    </tr>\n",
              "  </tbody>\n",
              "</table>\n",
              "</div>"
            ],
            "text/plain": [
              "           home     score         away  year winner\n",
              "48  Netherlands  Match 49        Wales  2022      ?\n",
              "49    Argentina  Match 50      Denmark  2022      ?\n",
              "50       France  Match 52       Poland  2022      ?\n",
              "51      England  Match 51      Senegal  2022      ?\n",
              "52      Germany  Match 53      Belgium  2022      ?\n",
              "53       Brazil  Match 54      Uruguay  2022      ?\n",
              "54      Croatia  Match 55        Spain  2022      ?\n",
              "55     Portugal  Match 56  Switzerland  2022      ?"
            ]
          },
          "execution_count": 84,
          "metadata": {},
          "output_type": "execute_result"
        }
      ],
      "source": [
        "for group in dict_table:\n",
        "    group_winner = dict_table[group].loc[0, 'Team']\n",
        "    runners_up = dict_table[group].loc[1, 'Team']\n",
        "    df_fixture_knockout.replace({f'Winners {group}':group_winner,\n",
        "                                 f'Runners-up {group}':runners_up}, inplace=True)\n",
        "\n",
        "df_fixture_knockout['winner'] = '?'\n",
        "df_fixture_knockout"
      ]
    },
    {
      "cell_type": "code",
      "execution_count": null,
      "id": "531bd59e",
      "metadata": {
        "id": "531bd59e"
      },
      "outputs": [],
      "source": [
        "# la funcion siguiente actualiza la tabla con los ganadores de las rondas\n",
        "def get_winner(df_fixture_updated):\n",
        "    for index, row in df_fixture_updated.iterrows():\n",
        "        home, away = row['home'], row['away']\n",
        "        points_home, points_away = predict_points(home, away)\n",
        "        if points_home > points_away:\n",
        "            winner = home\n",
        "        else:\n",
        "            winner = away\n",
        "        df_fixture_updated.loc[index, 'winner'] = winner\n",
        "    return df_fixture_updated"
      ]
    },
    {
      "cell_type": "code",
      "execution_count": null,
      "id": "06f8068d",
      "metadata": {
        "id": "06f8068d",
        "outputId": "4c7caa62-c40d-4c71-a851-cf647f89865a"
      },
      "outputs": [
        {
          "data": {
            "text/html": [
              "<div>\n",
              "<style scoped>\n",
              "    .dataframe tbody tr th:only-of-type {\n",
              "        vertical-align: middle;\n",
              "    }\n",
              "\n",
              "    .dataframe tbody tr th {\n",
              "        vertical-align: top;\n",
              "    }\n",
              "\n",
              "    .dataframe thead th {\n",
              "        text-align: right;\n",
              "    }\n",
              "</style>\n",
              "<table border=\"1\" class=\"dataframe\">\n",
              "  <thead>\n",
              "    <tr style=\"text-align: right;\">\n",
              "      <th></th>\n",
              "      <th>home</th>\n",
              "      <th>score</th>\n",
              "      <th>away</th>\n",
              "      <th>year</th>\n",
              "      <th>winner</th>\n",
              "    </tr>\n",
              "  </thead>\n",
              "  <tbody>\n",
              "    <tr>\n",
              "      <th>48</th>\n",
              "      <td>Netherlands</td>\n",
              "      <td>Match 49</td>\n",
              "      <td>Wales</td>\n",
              "      <td>2022</td>\n",
              "      <td>Netherlands</td>\n",
              "    </tr>\n",
              "    <tr>\n",
              "      <th>49</th>\n",
              "      <td>Argentina</td>\n",
              "      <td>Match 50</td>\n",
              "      <td>Denmark</td>\n",
              "      <td>2022</td>\n",
              "      <td>Argentina</td>\n",
              "    </tr>\n",
              "    <tr>\n",
              "      <th>50</th>\n",
              "      <td>France</td>\n",
              "      <td>Match 52</td>\n",
              "      <td>Poland</td>\n",
              "      <td>2022</td>\n",
              "      <td>France</td>\n",
              "    </tr>\n",
              "    <tr>\n",
              "      <th>51</th>\n",
              "      <td>England</td>\n",
              "      <td>Match 51</td>\n",
              "      <td>Senegal</td>\n",
              "      <td>2022</td>\n",
              "      <td>England</td>\n",
              "    </tr>\n",
              "    <tr>\n",
              "      <th>52</th>\n",
              "      <td>Germany</td>\n",
              "      <td>Match 53</td>\n",
              "      <td>Belgium</td>\n",
              "      <td>2022</td>\n",
              "      <td>Germany</td>\n",
              "    </tr>\n",
              "    <tr>\n",
              "      <th>53</th>\n",
              "      <td>Brazil</td>\n",
              "      <td>Match 54</td>\n",
              "      <td>Uruguay</td>\n",
              "      <td>2022</td>\n",
              "      <td>Brazil</td>\n",
              "    </tr>\n",
              "    <tr>\n",
              "      <th>54</th>\n",
              "      <td>Croatia</td>\n",
              "      <td>Match 55</td>\n",
              "      <td>Spain</td>\n",
              "      <td>2022</td>\n",
              "      <td>Spain</td>\n",
              "    </tr>\n",
              "    <tr>\n",
              "      <th>55</th>\n",
              "      <td>Portugal</td>\n",
              "      <td>Match 56</td>\n",
              "      <td>Switzerland</td>\n",
              "      <td>2022</td>\n",
              "      <td>Portugal</td>\n",
              "    </tr>\n",
              "  </tbody>\n",
              "</table>\n",
              "</div>"
            ],
            "text/plain": [
              "           home     score         away  year       winner\n",
              "48  Netherlands  Match 49        Wales  2022  Netherlands\n",
              "49    Argentina  Match 50      Denmark  2022    Argentina\n",
              "50       France  Match 52       Poland  2022       France\n",
              "51      England  Match 51      Senegal  2022      England\n",
              "52      Germany  Match 53      Belgium  2022      Germany\n",
              "53       Brazil  Match 54      Uruguay  2022       Brazil\n",
              "54      Croatia  Match 55        Spain  2022        Spain\n",
              "55     Portugal  Match 56  Switzerland  2022     Portugal"
            ]
          },
          "execution_count": 86,
          "metadata": {},
          "output_type": "execute_result"
        }
      ],
      "source": [
        "get_winner(df_fixture_knockout)"
      ]
    },
    {
      "cell_type": "markdown",
      "source": [
        "## Cuartos de  Final"
      ],
      "metadata": {
        "id": "4h9v48s1VU5V"
      },
      "id": "4h9v48s1VU5V"
    },
    {
      "cell_type": "code",
      "execution_count": null,
      "id": "a0cf0b51",
      "metadata": {
        "id": "a0cf0b51"
      },
      "outputs": [],
      "source": [
        "# la funcion siguiente actualiza la tabla con los ganadores de las rondas\n",
        "def update_table(df_fixture_round_1, df_fixture_round_2):\n",
        "    for index, row in df_fixture_round_1.iterrows():\n",
        "        winner = df_fixture_round_1.loc[index, 'winner']\n",
        "        match = df_fixture_round_1.loc[index, 'score']\n",
        "        df_fixture_round_2.replace({f'Winners {match}':winner}, inplace=True)\n",
        "    df_fixture_round_2['winner'] = '?'\n",
        "    return df_fixture_round_2"
      ]
    },
    {
      "cell_type": "code",
      "execution_count": null,
      "id": "0041809b",
      "metadata": {
        "id": "0041809b",
        "outputId": "217e8659-7e4a-4262-99f8-245806adaca0"
      },
      "outputs": [
        {
          "data": {
            "text/html": [
              "<div>\n",
              "<style scoped>\n",
              "    .dataframe tbody tr th:only-of-type {\n",
              "        vertical-align: middle;\n",
              "    }\n",
              "\n",
              "    .dataframe tbody tr th {\n",
              "        vertical-align: top;\n",
              "    }\n",
              "\n",
              "    .dataframe thead th {\n",
              "        text-align: right;\n",
              "    }\n",
              "</style>\n",
              "<table border=\"1\" class=\"dataframe\">\n",
              "  <thead>\n",
              "    <tr style=\"text-align: right;\">\n",
              "      <th></th>\n",
              "      <th>home</th>\n",
              "      <th>score</th>\n",
              "      <th>away</th>\n",
              "      <th>year</th>\n",
              "      <th>winner</th>\n",
              "    </tr>\n",
              "  </thead>\n",
              "  <tbody>\n",
              "    <tr>\n",
              "      <th>56</th>\n",
              "      <td>Germany</td>\n",
              "      <td>Match 58</td>\n",
              "      <td>Brazil</td>\n",
              "      <td>2022</td>\n",
              "      <td>?</td>\n",
              "    </tr>\n",
              "    <tr>\n",
              "      <th>57</th>\n",
              "      <td>Netherlands</td>\n",
              "      <td>Match 57</td>\n",
              "      <td>Argentina</td>\n",
              "      <td>2022</td>\n",
              "      <td>?</td>\n",
              "    </tr>\n",
              "    <tr>\n",
              "      <th>58</th>\n",
              "      <td>Spain</td>\n",
              "      <td>Match 60</td>\n",
              "      <td>Portugal</td>\n",
              "      <td>2022</td>\n",
              "      <td>?</td>\n",
              "    </tr>\n",
              "    <tr>\n",
              "      <th>59</th>\n",
              "      <td>England</td>\n",
              "      <td>Match 59</td>\n",
              "      <td>France</td>\n",
              "      <td>2022</td>\n",
              "      <td>?</td>\n",
              "    </tr>\n",
              "  </tbody>\n",
              "</table>\n",
              "</div>"
            ],
            "text/plain": [
              "           home     score       away  year winner\n",
              "56      Germany  Match 58     Brazil  2022      ?\n",
              "57  Netherlands  Match 57  Argentina  2022      ?\n",
              "58        Spain  Match 60   Portugal  2022      ?\n",
              "59      England  Match 59     France  2022      ?"
            ]
          },
          "execution_count": 88,
          "metadata": {},
          "output_type": "execute_result"
        }
      ],
      "source": [
        "update_table(df_fixture_knockout, df_fixture_quarter)"
      ]
    },
    {
      "cell_type": "code",
      "execution_count": null,
      "id": "0611997c",
      "metadata": {
        "id": "0611997c",
        "outputId": "542e3072-8bf7-46e6-a228-1d9a044dc473"
      },
      "outputs": [
        {
          "data": {
            "text/html": [
              "<div>\n",
              "<style scoped>\n",
              "    .dataframe tbody tr th:only-of-type {\n",
              "        vertical-align: middle;\n",
              "    }\n",
              "\n",
              "    .dataframe tbody tr th {\n",
              "        vertical-align: top;\n",
              "    }\n",
              "\n",
              "    .dataframe thead th {\n",
              "        text-align: right;\n",
              "    }\n",
              "</style>\n",
              "<table border=\"1\" class=\"dataframe\">\n",
              "  <thead>\n",
              "    <tr style=\"text-align: right;\">\n",
              "      <th></th>\n",
              "      <th>home</th>\n",
              "      <th>score</th>\n",
              "      <th>away</th>\n",
              "      <th>year</th>\n",
              "      <th>winner</th>\n",
              "    </tr>\n",
              "  </thead>\n",
              "  <tbody>\n",
              "    <tr>\n",
              "      <th>56</th>\n",
              "      <td>Germany</td>\n",
              "      <td>Match 58</td>\n",
              "      <td>Brazil</td>\n",
              "      <td>2022</td>\n",
              "      <td>Brazil</td>\n",
              "    </tr>\n",
              "    <tr>\n",
              "      <th>57</th>\n",
              "      <td>Netherlands</td>\n",
              "      <td>Match 57</td>\n",
              "      <td>Argentina</td>\n",
              "      <td>2022</td>\n",
              "      <td>Netherlands</td>\n",
              "    </tr>\n",
              "    <tr>\n",
              "      <th>58</th>\n",
              "      <td>Spain</td>\n",
              "      <td>Match 60</td>\n",
              "      <td>Portugal</td>\n",
              "      <td>2022</td>\n",
              "      <td>Portugal</td>\n",
              "    </tr>\n",
              "    <tr>\n",
              "      <th>59</th>\n",
              "      <td>England</td>\n",
              "      <td>Match 59</td>\n",
              "      <td>France</td>\n",
              "      <td>2022</td>\n",
              "      <td>France</td>\n",
              "    </tr>\n",
              "  </tbody>\n",
              "</table>\n",
              "</div>"
            ],
            "text/plain": [
              "           home     score       away  year       winner\n",
              "56      Germany  Match 58     Brazil  2022       Brazil\n",
              "57  Netherlands  Match 57  Argentina  2022  Netherlands\n",
              "58        Spain  Match 60   Portugal  2022     Portugal\n",
              "59      England  Match 59     France  2022       France"
            ]
          },
          "execution_count": 89,
          "metadata": {},
          "output_type": "execute_result"
        }
      ],
      "source": [
        "get_winner(df_fixture_quarter)"
      ]
    },
    {
      "cell_type": "markdown",
      "source": [
        "## Semifinal"
      ],
      "metadata": {
        "id": "RI1cPaVVVZZe"
      },
      "id": "RI1cPaVVVZZe"
    },
    {
      "cell_type": "code",
      "execution_count": null,
      "id": "83240f82",
      "metadata": {
        "id": "83240f82",
        "outputId": "d8c9a890-2ff3-4ecc-f390-6d6e888fb29b"
      },
      "outputs": [
        {
          "data": {
            "text/html": [
              "<div>\n",
              "<style scoped>\n",
              "    .dataframe tbody tr th:only-of-type {\n",
              "        vertical-align: middle;\n",
              "    }\n",
              "\n",
              "    .dataframe tbody tr th {\n",
              "        vertical-align: top;\n",
              "    }\n",
              "\n",
              "    .dataframe thead th {\n",
              "        text-align: right;\n",
              "    }\n",
              "</style>\n",
              "<table border=\"1\" class=\"dataframe\">\n",
              "  <thead>\n",
              "    <tr style=\"text-align: right;\">\n",
              "      <th></th>\n",
              "      <th>home</th>\n",
              "      <th>score</th>\n",
              "      <th>away</th>\n",
              "      <th>year</th>\n",
              "      <th>winner</th>\n",
              "    </tr>\n",
              "  </thead>\n",
              "  <tbody>\n",
              "    <tr>\n",
              "      <th>60</th>\n",
              "      <td>Netherlands</td>\n",
              "      <td>Match 61</td>\n",
              "      <td>Brazil</td>\n",
              "      <td>2022</td>\n",
              "      <td>?</td>\n",
              "    </tr>\n",
              "    <tr>\n",
              "      <th>61</th>\n",
              "      <td>France</td>\n",
              "      <td>Match 62</td>\n",
              "      <td>Portugal</td>\n",
              "      <td>2022</td>\n",
              "      <td>?</td>\n",
              "    </tr>\n",
              "  </tbody>\n",
              "</table>\n",
              "</div>"
            ],
            "text/plain": [
              "           home     score      away  year winner\n",
              "60  Netherlands  Match 61    Brazil  2022      ?\n",
              "61       France  Match 62  Portugal  2022      ?"
            ]
          },
          "execution_count": 90,
          "metadata": {},
          "output_type": "execute_result"
        }
      ],
      "source": [
        "\n",
        "update_table(df_fixture_quarter, df_fixture_semi)"
      ]
    },
    {
      "cell_type": "code",
      "execution_count": null,
      "id": "82d5c77c",
      "metadata": {
        "id": "82d5c77c",
        "outputId": "ea268910-9214-4f1c-fd93-ef5df9a9a2d7"
      },
      "outputs": [
        {
          "data": {
            "text/html": [
              "<div>\n",
              "<style scoped>\n",
              "    .dataframe tbody tr th:only-of-type {\n",
              "        vertical-align: middle;\n",
              "    }\n",
              "\n",
              "    .dataframe tbody tr th {\n",
              "        vertical-align: top;\n",
              "    }\n",
              "\n",
              "    .dataframe thead th {\n",
              "        text-align: right;\n",
              "    }\n",
              "</style>\n",
              "<table border=\"1\" class=\"dataframe\">\n",
              "  <thead>\n",
              "    <tr style=\"text-align: right;\">\n",
              "      <th></th>\n",
              "      <th>home</th>\n",
              "      <th>score</th>\n",
              "      <th>away</th>\n",
              "      <th>year</th>\n",
              "      <th>winner</th>\n",
              "    </tr>\n",
              "  </thead>\n",
              "  <tbody>\n",
              "    <tr>\n",
              "      <th>60</th>\n",
              "      <td>Netherlands</td>\n",
              "      <td>Match 61</td>\n",
              "      <td>Brazil</td>\n",
              "      <td>2022</td>\n",
              "      <td>Brazil</td>\n",
              "    </tr>\n",
              "    <tr>\n",
              "      <th>61</th>\n",
              "      <td>France</td>\n",
              "      <td>Match 62</td>\n",
              "      <td>Portugal</td>\n",
              "      <td>2022</td>\n",
              "      <td>France</td>\n",
              "    </tr>\n",
              "  </tbody>\n",
              "</table>\n",
              "</div>"
            ],
            "text/plain": [
              "           home     score      away  year  winner\n",
              "60  Netherlands  Match 61    Brazil  2022  Brazil\n",
              "61       France  Match 62  Portugal  2022  France"
            ]
          },
          "execution_count": 91,
          "metadata": {},
          "output_type": "execute_result"
        }
      ],
      "source": [
        "get_winner(df_fixture_semi)"
      ]
    },
    {
      "cell_type": "markdown",
      "source": [
        "## Final del Mundial\n",
        "\n"
      ],
      "metadata": {
        "id": "H_qRJm8CVcjm"
      },
      "id": "H_qRJm8CVcjm"
    },
    {
      "cell_type": "code",
      "execution_count": null,
      "id": "f73dd822",
      "metadata": {
        "id": "f73dd822",
        "outputId": "9b14ac60-0fe2-4178-e3e7-9aba5223e309"
      },
      "outputs": [
        {
          "data": {
            "text/html": [
              "<div>\n",
              "<style scoped>\n",
              "    .dataframe tbody tr th:only-of-type {\n",
              "        vertical-align: middle;\n",
              "    }\n",
              "\n",
              "    .dataframe tbody tr th {\n",
              "        vertical-align: top;\n",
              "    }\n",
              "\n",
              "    .dataframe thead th {\n",
              "        text-align: right;\n",
              "    }\n",
              "</style>\n",
              "<table border=\"1\" class=\"dataframe\">\n",
              "  <thead>\n",
              "    <tr style=\"text-align: right;\">\n",
              "      <th></th>\n",
              "      <th>home</th>\n",
              "      <th>score</th>\n",
              "      <th>away</th>\n",
              "      <th>year</th>\n",
              "      <th>winner</th>\n",
              "    </tr>\n",
              "  </thead>\n",
              "  <tbody>\n",
              "    <tr>\n",
              "      <th>62</th>\n",
              "      <td>Losers Match 61</td>\n",
              "      <td>Match 63</td>\n",
              "      <td>Losers Match 62</td>\n",
              "      <td>2022</td>\n",
              "      <td>?</td>\n",
              "    </tr>\n",
              "    <tr>\n",
              "      <th>63</th>\n",
              "      <td>Brazil</td>\n",
              "      <td>Match 64</td>\n",
              "      <td>France</td>\n",
              "      <td>2022</td>\n",
              "      <td>?</td>\n",
              "    </tr>\n",
              "  </tbody>\n",
              "</table>\n",
              "</div>"
            ],
            "text/plain": [
              "               home     score             away  year winner\n",
              "62  Losers Match 61  Match 63  Losers Match 62  2022      ?\n",
              "63           Brazil  Match 64           France  2022      ?"
            ]
          },
          "execution_count": 92,
          "metadata": {},
          "output_type": "execute_result"
        }
      ],
      "source": [
        "\n",
        "update_table(df_fixture_semi, df_fixture_final)"
      ]
    },
    {
      "cell_type": "code",
      "execution_count": null,
      "id": "30068364",
      "metadata": {
        "id": "30068364",
        "outputId": "77970268-2880-4e5c-825d-7a27d2d4ad25"
      },
      "outputs": [
        {
          "data": {
            "text/html": [
              "<div>\n",
              "<style scoped>\n",
              "    .dataframe tbody tr th:only-of-type {\n",
              "        vertical-align: middle;\n",
              "    }\n",
              "\n",
              "    .dataframe tbody tr th {\n",
              "        vertical-align: top;\n",
              "    }\n",
              "\n",
              "    .dataframe thead th {\n",
              "        text-align: right;\n",
              "    }\n",
              "</style>\n",
              "<table border=\"1\" class=\"dataframe\">\n",
              "  <thead>\n",
              "    <tr style=\"text-align: right;\">\n",
              "      <th></th>\n",
              "      <th>home</th>\n",
              "      <th>score</th>\n",
              "      <th>away</th>\n",
              "      <th>year</th>\n",
              "      <th>winner</th>\n",
              "    </tr>\n",
              "  </thead>\n",
              "  <tbody>\n",
              "    <tr>\n",
              "      <th>62</th>\n",
              "      <td>Losers Match 61</td>\n",
              "      <td>Match 63</td>\n",
              "      <td>Losers Match 62</td>\n",
              "      <td>2022</td>\n",
              "      <td>Losers Match 62</td>\n",
              "    </tr>\n",
              "    <tr>\n",
              "      <th>63</th>\n",
              "      <td>Brazil</td>\n",
              "      <td>Match 64</td>\n",
              "      <td>France</td>\n",
              "      <td>2022</td>\n",
              "      <td>Brazil</td>\n",
              "    </tr>\n",
              "  </tbody>\n",
              "</table>\n",
              "</div>"
            ],
            "text/plain": [
              "               home     score             away  year           winner\n",
              "62  Losers Match 61  Match 63  Losers Match 62  2022  Losers Match 62\n",
              "63           Brazil  Match 64           France  2022           Brazil"
            ]
          },
          "execution_count": 93,
          "metadata": {},
          "output_type": "execute_result"
        }
      ],
      "source": [
        "get_winner(df_fixture_final)"
      ]
    },
    {
      "cell_type": "markdown",
      "source": [
        "Como resultado obtuvimos que la final se disputaria entre Francia y Brasil y el ganador final seria Brasil"
      ],
      "metadata": {
        "id": "9faZVWSEIBsz"
      },
      "id": "9faZVWSEIBsz"
    },
    {
      "cell_type": "code",
      "execution_count": null,
      "id": "294bf41b",
      "metadata": {
        "id": "294bf41b"
      },
      "outputs": [],
      "source": []
    }
  ],
  "metadata": {
    "hide_input": false,
    "kernelspec": {
      "display_name": "Python 3 (ipykernel)",
      "language": "python",
      "name": "python3"
    },
    "language_info": {
      "codemirror_mode": {
        "name": "ipython",
        "version": 3
      },
      "file_extension": ".py",
      "mimetype": "text/x-python",
      "name": "python",
      "nbconvert_exporter": "python",
      "pygments_lexer": "ipython3",
      "version": "3.9.16"
    },
    "toc": {
      "base_numbering": 1,
      "nav_menu": {},
      "number_sections": true,
      "sideBar": true,
      "skip_h1_title": false,
      "title_cell": "Table of Contents",
      "title_sidebar": "Contents",
      "toc_cell": false,
      "toc_position": {},
      "toc_section_display": true,
      "toc_window_display": false
    },
    "varInspector": {
      "cols": {
        "lenName": 16,
        "lenType": 16,
        "lenVar": 40
      },
      "kernels_config": {
        "python": {
          "delete_cmd_postfix": "",
          "delete_cmd_prefix": "del ",
          "library": "var_list.py",
          "varRefreshCmd": "print(var_dic_list())"
        },
        "r": {
          "delete_cmd_postfix": ") ",
          "delete_cmd_prefix": "rm(",
          "library": "var_list.r",
          "varRefreshCmd": "cat(var_dic_list()) "
        }
      },
      "types_to_exclude": [
        "module",
        "function",
        "builtin_function_or_method",
        "instance",
        "_Feature"
      ],
      "window_display": false
    },
    "colab": {
      "provenance": [],
      "toc_visible": true,
      "include_colab_link": true
    }
  },
  "nbformat": 4,
  "nbformat_minor": 5
}