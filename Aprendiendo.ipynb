{
  "nbformat": 4,
  "nbformat_minor": 0,
  "metadata": {
    "colab": {
      "provenance": [],
      "authorship_tag": "ABX9TyOf9geuOGE8PALRjkuZkiP0",
      "include_colab_link": true
    },
    "kernelspec": {
      "name": "python3",
      "display_name": "Python 3"
    },
    "language_info": {
      "name": "python"
    }
  },
  "cells": [
    {
      "cell_type": "markdown",
      "metadata": {
        "id": "view-in-github",
        "colab_type": "text"
      },
      "source": [
        "<a href=\"https://colab.research.google.com/github/Andy14py/my_projects/blob/main/Aprendiendo.ipynb\" target=\"_parent\"><img src=\"https://colab.research.google.com/assets/colab-badge.svg\" alt=\"Open In Colab\"/></a>"
      ]
    },
    {
      "cell_type": "code",
      "execution_count": null,
      "metadata": {
        "colab": {
          "base_uri": "https://localhost:8080/"
        },
        "id": "KjZTvMa4HMDC",
        "outputId": "47ad7be1-8307-4248-9351-7e763f8f88d5"
      },
      "outputs": [
        {
          "output_type": "stream",
          "name": "stdout",
          "text": [
            "me voy a comer una Manzana\n",
            "me voy a comer una Pera\n"
          ]
        }
      ],
      "source": [
        "lista = [\"Manzana\", \"Pera\",\"Zandia\", \"Melocoton\",\"limon\"]\n",
        "\n",
        "for fruta in lista:\n",
        "  print(f\"me voy a comer una {fruta}\")\n",
        "  if fruta == \"Pera\":\n",
        "    break\n",
        "  \n",
        "  \n"
      ]
    }
  ]
}