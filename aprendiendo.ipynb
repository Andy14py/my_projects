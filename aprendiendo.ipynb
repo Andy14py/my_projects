{
  "nbformat": 4,
  "nbformat_minor": 0,
  "metadata": {
    "colab": {
      "provenance": [],
      "authorship_tag": "ABX9TyO5z1qBTIZVXjZsQQ09oMqW",
      "include_colab_link": true
    },
    "kernelspec": {
      "name": "python3",
      "display_name": "Python 3"
    },
    "language_info": {
      "name": "python"
    }
  },
  "cells": [
    {
      "cell_type": "markdown",
      "metadata": {
        "id": "view-in-github",
        "colab_type": "text"
      },
      "source": [
        "<a href=\"https://colab.research.google.com/github/Andy14py/my_projects/blob/main/aprendiendo.ipynb\" target=\"_parent\"><img src=\"https://colab.research.google.com/assets/colab-badge.svg\" alt=\"Open In Colab\"/></a>"
      ]
    },
    {
      "cell_type": "code",
      "execution_count": 1,
      "metadata": {
        "id": "QKgF3rOHOgm3",
        "colab": {
          "base_uri": "https://localhost:8080/"
        },
        "outputId": "ec6c5a8d-3bde-4236-9cb6-e9a9b8ae9201"
      },
      "outputs": [
        {
          "output_type": "stream",
          "name": "stdout",
          "text": [
            "me voy a comer una Manzana\n",
            "me voy a comer una Pera\n"
          ]
        }
      ],
      "source": [
        "lista = [\"Manzana\", \"Pera\",\"Zandia\", \"Melocoton\",\"limon\"]\n",
        "\n",
        "for fruta in lista:\n",
        "  print(f\"me voy a comer una {fruta}\")\n",
        "  if fruta == \"Pera\":\n",
        "    break\n",
        "  "
      ]
    }
  ]
}