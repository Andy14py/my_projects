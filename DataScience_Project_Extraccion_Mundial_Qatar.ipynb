{
  "cells": [
    {
      "cell_type": "markdown",
      "metadata": {
        "id": "view-in-github",
        "colab_type": "text"
      },
      "source": [
        "<a href=\"https://colab.research.google.com/github/Andy14py/my_projects/blob/main/DataScience_Project_Extraccion_Mundial_Qatar.ipynb\" target=\"_parent\"><img src=\"https://colab.research.google.com/assets/colab-badge.svg\" alt=\"Open In Colab\"/></a>"
      ]
    },
    {
      "cell_type": "markdown",
      "id": "13e7b810",
      "metadata": {
        "id": "13e7b810"
      },
      "source": [
        "# <center> **PREDECIR CAMPEON DEL MUNDIAL QATAR** <center>"
      ]
    },
    {
      "cell_type": "markdown",
      "source": [
        "# FASE 1: Extraccion de data\n",
        "En vista de que no disponemos de la información requerida, vamos a proceder a extraer datos de una fuente externa utilizando técnicas de web scraping"
      ],
      "metadata": {
        "id": "Coa61BCR1aCM"
      },
      "id": "Coa61BCR1aCM"
    },
    {
      "cell_type": "markdown",
      "id": "32cabfa7",
      "metadata": {
        "id": "32cabfa7"
      },
      "source": [
        "## Extrayendo data con pandas"
      ]
    },
    {
      "cell_type": "code",
      "execution_count": null,
      "id": "9a5334db",
      "metadata": {
        "id": "9a5334db"
      },
      "outputs": [],
      "source": [
        "#Empezamos por importar las librerias que nos permiten leer la data en este caso sera proveniente de una pagina web\n",
        "import pandas as pd \n",
        "from string import ascii_uppercase as alfabeto\n",
        "import pickle"
      ]
    },
    {
      "cell_type": "code",
      "execution_count": null,
      "id": "c528aca9",
      "metadata": {
        "colab": {
          "base_uri": "https://localhost:8080/",
          "height": 175
        },
        "id": "c528aca9",
        "outputId": "dbb84889-a7d6-4e34-bc3d-37e55141e2e3"
      },
      "outputs": [
        {
          "output_type": "execute_result",
          "data": {
            "text/plain": [
              "   Pos         Team  Pld  W  D  L  GF  GA  GD  Pts\n",
              "0    1  Netherlands    3  2  1  0   5   1  +4    7\n",
              "1    2      Senegal    3  2  0  1   5   4  +1    6\n",
              "2    3      Ecuador    3  1  1  1   4   3  +1    4\n",
              "3    4    Qatar (H)    3  0  0  3   1   7  −6    0"
            ],
            "text/html": [
              "\n",
              "  <div id=\"df-af075f8c-0ed2-4411-aab6-c8fdb5981556\">\n",
              "    <div class=\"colab-df-container\">\n",
              "      <div>\n",
              "<style scoped>\n",
              "    .dataframe tbody tr th:only-of-type {\n",
              "        vertical-align: middle;\n",
              "    }\n",
              "\n",
              "    .dataframe tbody tr th {\n",
              "        vertical-align: top;\n",
              "    }\n",
              "\n",
              "    .dataframe thead th {\n",
              "        text-align: right;\n",
              "    }\n",
              "</style>\n",
              "<table border=\"1\" class=\"dataframe\">\n",
              "  <thead>\n",
              "    <tr style=\"text-align: right;\">\n",
              "      <th></th>\n",
              "      <th>Pos</th>\n",
              "      <th>Team</th>\n",
              "      <th>Pld</th>\n",
              "      <th>W</th>\n",
              "      <th>D</th>\n",
              "      <th>L</th>\n",
              "      <th>GF</th>\n",
              "      <th>GA</th>\n",
              "      <th>GD</th>\n",
              "      <th>Pts</th>\n",
              "    </tr>\n",
              "  </thead>\n",
              "  <tbody>\n",
              "    <tr>\n",
              "      <th>0</th>\n",
              "      <td>1</td>\n",
              "      <td>Netherlands</td>\n",
              "      <td>3</td>\n",
              "      <td>2</td>\n",
              "      <td>1</td>\n",
              "      <td>0</td>\n",
              "      <td>5</td>\n",
              "      <td>1</td>\n",
              "      <td>+4</td>\n",
              "      <td>7</td>\n",
              "    </tr>\n",
              "    <tr>\n",
              "      <th>1</th>\n",
              "      <td>2</td>\n",
              "      <td>Senegal</td>\n",
              "      <td>3</td>\n",
              "      <td>2</td>\n",
              "      <td>0</td>\n",
              "      <td>1</td>\n",
              "      <td>5</td>\n",
              "      <td>4</td>\n",
              "      <td>+1</td>\n",
              "      <td>6</td>\n",
              "    </tr>\n",
              "    <tr>\n",
              "      <th>2</th>\n",
              "      <td>3</td>\n",
              "      <td>Ecuador</td>\n",
              "      <td>3</td>\n",
              "      <td>1</td>\n",
              "      <td>1</td>\n",
              "      <td>1</td>\n",
              "      <td>4</td>\n",
              "      <td>3</td>\n",
              "      <td>+1</td>\n",
              "      <td>4</td>\n",
              "    </tr>\n",
              "    <tr>\n",
              "      <th>3</th>\n",
              "      <td>4</td>\n",
              "      <td>Qatar (H)</td>\n",
              "      <td>3</td>\n",
              "      <td>0</td>\n",
              "      <td>0</td>\n",
              "      <td>3</td>\n",
              "      <td>1</td>\n",
              "      <td>7</td>\n",
              "      <td>−6</td>\n",
              "      <td>0</td>\n",
              "    </tr>\n",
              "  </tbody>\n",
              "</table>\n",
              "</div>\n",
              "      <button class=\"colab-df-convert\" onclick=\"convertToInteractive('df-af075f8c-0ed2-4411-aab6-c8fdb5981556')\"\n",
              "              title=\"Convert this dataframe to an interactive table.\"\n",
              "              style=\"display:none;\">\n",
              "        \n",
              "  <svg xmlns=\"http://www.w3.org/2000/svg\" height=\"24px\"viewBox=\"0 0 24 24\"\n",
              "       width=\"24px\">\n",
              "    <path d=\"M0 0h24v24H0V0z\" fill=\"none\"/>\n",
              "    <path d=\"M18.56 5.44l.94 2.06.94-2.06 2.06-.94-2.06-.94-.94-2.06-.94 2.06-2.06.94zm-11 1L8.5 8.5l.94-2.06 2.06-.94-2.06-.94L8.5 2.5l-.94 2.06-2.06.94zm10 10l.94 2.06.94-2.06 2.06-.94-2.06-.94-.94-2.06-.94 2.06-2.06.94z\"/><path d=\"M17.41 7.96l-1.37-1.37c-.4-.4-.92-.59-1.43-.59-.52 0-1.04.2-1.43.59L10.3 9.45l-7.72 7.72c-.78.78-.78 2.05 0 2.83L4 21.41c.39.39.9.59 1.41.59.51 0 1.02-.2 1.41-.59l7.78-7.78 2.81-2.81c.8-.78.8-2.07 0-2.86zM5.41 20L4 18.59l7.72-7.72 1.47 1.35L5.41 20z\"/>\n",
              "  </svg>\n",
              "      </button>\n",
              "      \n",
              "  <style>\n",
              "    .colab-df-container {\n",
              "      display:flex;\n",
              "      flex-wrap:wrap;\n",
              "      gap: 12px;\n",
              "    }\n",
              "\n",
              "    .colab-df-convert {\n",
              "      background-color: #E8F0FE;\n",
              "      border: none;\n",
              "      border-radius: 50%;\n",
              "      cursor: pointer;\n",
              "      display: none;\n",
              "      fill: #1967D2;\n",
              "      height: 32px;\n",
              "      padding: 0 0 0 0;\n",
              "      width: 32px;\n",
              "    }\n",
              "\n",
              "    .colab-df-convert:hover {\n",
              "      background-color: #E2EBFA;\n",
              "      box-shadow: 0px 1px 2px rgba(60, 64, 67, 0.3), 0px 1px 3px 1px rgba(60, 64, 67, 0.15);\n",
              "      fill: #174EA6;\n",
              "    }\n",
              "\n",
              "    [theme=dark] .colab-df-convert {\n",
              "      background-color: #3B4455;\n",
              "      fill: #D2E3FC;\n",
              "    }\n",
              "\n",
              "    [theme=dark] .colab-df-convert:hover {\n",
              "      background-color: #434B5C;\n",
              "      box-shadow: 0px 1px 3px 1px rgba(0, 0, 0, 0.15);\n",
              "      filter: drop-shadow(0px 1px 2px rgba(0, 0, 0, 0.3));\n",
              "      fill: #FFFFFF;\n",
              "    }\n",
              "  </style>\n",
              "\n",
              "      <script>\n",
              "        const buttonEl =\n",
              "          document.querySelector('#df-af075f8c-0ed2-4411-aab6-c8fdb5981556 button.colab-df-convert');\n",
              "        buttonEl.style.display =\n",
              "          google.colab.kernel.accessAllowed ? 'block' : 'none';\n",
              "\n",
              "        async function convertToInteractive(key) {\n",
              "          const element = document.querySelector('#df-af075f8c-0ed2-4411-aab6-c8fdb5981556');\n",
              "          const dataTable =\n",
              "            await google.colab.kernel.invokeFunction('convertToInteractive',\n",
              "                                                     [key], {});\n",
              "          if (!dataTable) return;\n",
              "\n",
              "          const docLinkHtml = 'Like what you see? Visit the ' +\n",
              "            '<a target=\"_blank\" href=https://colab.research.google.com/notebooks/data_table.ipynb>data table notebook</a>'\n",
              "            + ' to learn more about interactive tables.';\n",
              "          element.innerHTML = '';\n",
              "          dataTable['output_type'] = 'display_data';\n",
              "          await google.colab.output.renderOutput(dataTable, element);\n",
              "          const docLink = document.createElement('div');\n",
              "          docLink.innerHTML = docLinkHtml;\n",
              "          element.appendChild(docLink);\n",
              "        }\n",
              "      </script>\n",
              "    </div>\n",
              "  </div>\n",
              "  "
            ]
          },
          "metadata": {},
          "execution_count": 56
        }
      ],
      "source": [
        "# recopilamos la data con el metodo pd.read_ht\n",
        "todas_tablas=pd.read_html('https://en.wikipedia.org/wiki/2022_FIFA_World_Cup')\n",
        "#La logica nos indica que las tablas estan enumeradas del 10 al 59 en intervalos de 7 desde el grupo A al grupo H\n",
        "# A->H\n",
        "# 10 -> 7*7+ 10=59\n",
        "todas_tablas[10]\n",
        "todas_tablas[17]\n",
        "todas_tablas[24]\n",
        "\n",
        "\n",
        "dict_tablas={}\n",
        "for letra, i in zip(alfabeto,range(10,66,7)):\n",
        "    df=todas_tablas[i]\n",
        "    df.rename(columns={df.columns[1]:\"Team\"}, inplace=True)\n",
        "    df.pop(\"Qualification\")\n",
        "    dict_tablas[f\"Grupo {letra}\"]=df\n",
        "\n",
        "with open(\"dict_table\",\"wb\") as output:\n",
        "    pickle.dump(dict_tablas,output)\n",
        "\n",
        "dict_tablas['Grupo A']"
      ]
    },
    {
      "cell_type": "markdown",
      "id": "82281ac2",
      "metadata": {
        "id": "82281ac2"
      },
      "source": [
        "## Extrayendo data con BeautifulSoup"
      ]
    },
    {
      "cell_type": "code",
      "execution_count": null,
      "id": "8878ad8d",
      "metadata": {
        "id": "8878ad8d"
      },
      "outputs": [],
      "source": [
        "from bs4 import BeautifulSoup\n",
        "import pandas as pd\n",
        "import requests\n",
        "\n",
        "\n",
        "\n",
        "years = [1930, 1934, 1938, 1950, 1954, 1958, 1962, 1966, 1970, 1974,\n",
        "         1978, 1982, 1986, 1990, 1994, 1998, 2002, 2006, 2010, 2014,\n",
        "         2018]\n",
        "\n",
        "def get_matches(year):\n",
        "    web=f\"https://en.wikipedia.org/wiki/{year}_FIFA_World_Cup\"\n",
        "    response=requests.get(web)\n",
        "    content=response.text\n",
        "    soup=BeautifulSoup(content,\"lxml\")\n",
        "#identificamos el nombre de tag y luego el nombre de clase: find_all devuelve una lista\n",
        "    matches=soup.find_all(\"div\",class_=\"footballbox\")\n",
        "# Creamos listas vacias que seran llenadas con el metodo append luego de obtener el texto de la web\n",
        "    home=[]\n",
        "    score=[]\n",
        "    away=[]\n",
        "    for match in matches:\n",
        "        home.append(match.find(\"th\",class_=\"fhome\").get_text())\n",
        "        score.append(match.find(\"th\",class_=\"fscore\").get_text())\n",
        "        away.append(match.find(\"th\",class_=\"faway\").get_text())\n",
        "#Creamos un diccionario para ordenar la informacion luego se crea un df con pandas\n",
        "    dict_football={\"home\":home,\"score\":score,\"away\":away} \n",
        "    df_football=pd.DataFrame(dict_football)\n",
        "# Creamos una nueva columna para representar el año del mundial al que se refiere\n",
        "    df_football[\"year\"]= year\n",
        "    return df_football\n",
        "# Creamos lista de comprension con bucle para obtener el nuevo dataframe pero de todos los años en lista years\n",
        "fifa=[get_matches(year) for year in years]\n",
        "#Creamos el dataframe con concat\n",
        "df_fifa=pd.concat(fifa, ignore_index=True)\n",
        "#exportamos nuestros dos DataFrames df_fifa y df_fixture\n",
        "df_fifa.to_csv(\"fifa_worldcup_historical_data.csv\", index=False)\n",
        "\n",
        "df_fixture=get_matches(\"2022\")\n",
        "df_fixture.to_csv(\"fifa_worldcup_fixture.csv\", index=False)\n"
      ]
    },
    {
      "cell_type": "markdown",
      "id": "1e5e5f60",
      "metadata": {
        "id": "1e5e5f60"
      },
      "source": [
        "## Extrayendo data con Selenium"
      ]
    },
    {
      "cell_type": "code",
      "execution_count": null,
      "id": "f68b8c17",
      "metadata": {
        "id": "f68b8c17"
      },
      "outputs": [],
      "source": [
        "#Este archivo debe ser ejecutado en Jupiternotebook y descargar el chromedriver.exe que corresponde a su version de Chrome \n",
        "from selenium import webdriver\n",
        "from selenium.webdriver.chrome.service import Service\n",
        "import pandas as pd \n",
        "import time\n",
        "\n",
        "years = [1930, 1934, 1938, 1950, 1954, 1958, 1962, 1966, 1970, 1974,\n",
        "         1978, 1982, 1986, 1990, 1994, 1998, 2002, 2006, 2010, 2014,\n",
        "         2018]\n",
        "\n",
        "# el path debe describir la ruta donde esta el archivo chromedriver descargado\n",
        "path= \"C:/Users/Andy/Downloads\"\n",
        "service =Service(executable_path=path)\n",
        "driver = webdriver.Chrome(service=service)\n",
        "\n",
        "def obtener_data_faltante(year):\n",
        "    # usamos la tecnica f string para hacer un link dinamico\n",
        "    web=f\"https://en.wikipedia.org/wiki/{year}_FIFA_World_Cup\"\n",
        "    driver.get(web)\n",
        "\n",
        "#creacion del \"xpath\" esto es primero inspeccionando el elemento, obtener el tag el nombre de clases\n",
        "# y el valor de la misma luego con \"..\" se encuentra el nodo padre\n",
        "    matches=driver.find_elements(by=\"xpath\",value=\"//tr[@itemprop='name']\")\n",
        "#Creamos listas vacias para llenarlas con la data recopilada\n",
        "    home2=[]\n",
        "    score2=[]\n",
        "    away2=[]\n",
        "\n",
        "    for match in matches:\n",
        "#el punto(.) representa la importacion de la ruta anterior definida en matches(//tr[@itemprop='name'])\n",
        "# por ello no se necesita poner toda la ruta completa, ademas los numeros representa el index \n",
        "#de la posicion que deseamos encontrar\n",
        "        home2.append(match.find_element(by='xpath', value='./th[1]').text)\n",
        "        score2.append(match.find_element(by='xpath', value='./th[2]').text)\n",
        "        away2.append(match.find_element(by='xpath', value='./th[3]').text)\n",
        "\n",
        "#Creamos un diccionario para rellenarlo de la informacion descargada anteriormente y luego creamos un dataframe con pandas\n",
        "# con el metodo pd.DataFrame()\n",
        "    dict_football2={\"home\":home2,\"score\":score2,\"away\":away2}\n",
        "    df_football2=pd.DataFrame(dict_football2)\n",
        "    df_football2[\"year\"]=year\n",
        "# Damos un delay de 2 segundos intervalo de tiempo que tomara para cerrar y abrir otra pagina\n",
        "    time.sleep(2)\n",
        "    return df_football2\n",
        "\n",
        "# Creamos una lista de comprension que permite por medio del bucle recolectar toda la data necesaria\n",
        "#definida por los años en la lista years\n",
        "fifa2=[obtener_data_faltante(year) for year in years]\n",
        "# Este metodo nos permite cerrar el navegador y terminar la operacion\n",
        "driver.quit()\n",
        "# Concatenamos la lista ignorando el index que contengan y redefiniendo uno nuevo\n",
        "df_fifa2=pd.concat(fifa2,ignore_index=True)\n",
        "# exportamos la data como archivo csv sin exportar el index\n",
        "df_fifa2.to_csv(\"fifa_worldcup_missing_data.csv\", index=False)\n",
        "\n"
      ]
    },
    {
      "cell_type": "code",
      "source": [],
      "metadata": {
        "id": "Wxwg5aoRJFjN"
      },
      "id": "Wxwg5aoRJFjN",
      "execution_count": null,
      "outputs": []
    }
  ],
  "metadata": {
    "hide_input": false,
    "kernelspec": {
      "display_name": "Python 3 (ipykernel)",
      "language": "python",
      "name": "python3"
    },
    "language_info": {
      "codemirror_mode": {
        "name": "ipython",
        "version": 3
      },
      "file_extension": ".py",
      "mimetype": "text/x-python",
      "name": "python",
      "nbconvert_exporter": "python",
      "pygments_lexer": "ipython3",
      "version": "3.9.16"
    },
    "toc": {
      "base_numbering": 1,
      "nav_menu": {},
      "number_sections": true,
      "sideBar": true,
      "skip_h1_title": false,
      "title_cell": "Table of Contents",
      "title_sidebar": "Contents",
      "toc_cell": false,
      "toc_position": {},
      "toc_section_display": true,
      "toc_window_display": false
    },
    "varInspector": {
      "cols": {
        "lenName": 16,
        "lenType": 16,
        "lenVar": 40
      },
      "kernels_config": {
        "python": {
          "delete_cmd_postfix": "",
          "delete_cmd_prefix": "del ",
          "library": "var_list.py",
          "varRefreshCmd": "print(var_dic_list())"
        },
        "r": {
          "delete_cmd_postfix": ") ",
          "delete_cmd_prefix": "rm(",
          "library": "var_list.r",
          "varRefreshCmd": "cat(var_dic_list()) "
        }
      },
      "types_to_exclude": [
        "module",
        "function",
        "builtin_function_or_method",
        "instance",
        "_Feature"
      ],
      "window_display": false
    },
    "colab": {
      "provenance": [],
      "include_colab_link": true
    }
  },
  "nbformat": 4,
  "nbformat_minor": 5
}